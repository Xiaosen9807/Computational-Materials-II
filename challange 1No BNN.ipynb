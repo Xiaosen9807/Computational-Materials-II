{
 "cells": [
  {
   "cell_type": "code",
   "execution_count": 31,
   "metadata": {},
   "outputs": [],
   "source": [
    "import os\n",
    "import time \n",
    "import pandas as pd\n",
    "import matplotlib.pyplot as plt\n",
    "import numpy as np\n",
    "import torch\n",
    "import torch.nn as nn\n",
    "import torch.optim as optim\n",
    "import torchbnn as bnn\n",
    "import tensorflow as tf\n",
    "import random\n",
    "from sklearn.metrics import r2_score "
   ]
  },
  {
   "cell_type": "code",
   "execution_count": 32,
   "metadata": {},
   "outputs": [],
   "source": [
    "def setup_seed(seed):\n",
    "    tf.random.set_seed(seed)\n",
    "    torch.manual_seed(seed)\n",
    "    np.random.seed(seed)\n",
    "    random.seed(seed)\n",
    "    return seed\n",
    "\n",
    "randomseed = setup_seed(9807)"
   ]
  },
  {
   "cell_type": "code",
   "execution_count": 33,
   "metadata": {},
   "outputs": [
    {
     "data": {
      "text/html": [
       "<div>\n",
       "<style scoped>\n",
       "    .dataframe tbody tr th:only-of-type {\n",
       "        vertical-align: middle;\n",
       "    }\n",
       "\n",
       "    .dataframe tbody tr th {\n",
       "        vertical-align: top;\n",
       "    }\n",
       "\n",
       "    .dataframe thead th {\n",
       "        text-align: right;\n",
       "    }\n",
       "</style>\n",
       "<table border=\"1\" class=\"dataframe\">\n",
       "  <thead>\n",
       "    <tr style=\"text-align: right;\">\n",
       "      <th></th>\n",
       "      <th>element 1</th>\n",
       "      <th>element 2</th>\n",
       "      <th>element 3</th>\n",
       "      <th>element 4</th>\n",
       "      <th>element 5</th>\n",
       "      <th>element 6</th>\n",
       "      <th>element 7</th>\n",
       "      <th>element 8</th>\n",
       "      <th>element 9</th>\n",
       "      <th>element 10</th>\n",
       "      <th>element 11</th>\n",
       "      <th>element 12</th>\n",
       "      <th>property 1</th>\n",
       "      <th>property 2</th>\n",
       "      <th>property 3</th>\n",
       "      <th>property 4</th>\n",
       "      <th>property 5</th>\n",
       "      <th>property 6</th>\n",
       "    </tr>\n",
       "  </thead>\n",
       "  <tbody>\n",
       "    <tr>\n",
       "      <th>0</th>\n",
       "      <td>0.693551</td>\n",
       "      <td>0.199083</td>\n",
       "      <td>0.055558</td>\n",
       "      <td>0.032409</td>\n",
       "      <td>0.009260</td>\n",
       "      <td>0.009260</td>\n",
       "      <td>0.000324</td>\n",
       "      <td>0.000278</td>\n",
       "      <td>0.000278</td>\n",
       "      <td>0.000000</td>\n",
       "      <td>0.000000</td>\n",
       "      <td>0.000000</td>\n",
       "      <td>-0.057956</td>\n",
       "      <td>0.631224</td>\n",
       "      <td>0.759085</td>\n",
       "      <td>0.398851</td>\n",
       "      <td>-0.003600</td>\n",
       "      <td>1.342950</td>\n",
       "    </tr>\n",
       "    <tr>\n",
       "      <th>1</th>\n",
       "      <td>0.009337</td>\n",
       "      <td>0.000000</td>\n",
       "      <td>0.009337</td>\n",
       "      <td>0.308123</td>\n",
       "      <td>0.000000</td>\n",
       "      <td>0.659197</td>\n",
       "      <td>0.000000</td>\n",
       "      <td>0.000000</td>\n",
       "      <td>0.000000</td>\n",
       "      <td>0.009337</td>\n",
       "      <td>0.004669</td>\n",
       "      <td>0.000000</td>\n",
       "      <td>-0.108256</td>\n",
       "      <td>-0.568080</td>\n",
       "      <td>-0.247029</td>\n",
       "      <td>-0.930688</td>\n",
       "      <td>0.022768</td>\n",
       "      <td>-1.207390</td>\n",
       "    </tr>\n",
       "    <tr>\n",
       "      <th>2</th>\n",
       "      <td>0.956573</td>\n",
       "      <td>0.009781</td>\n",
       "      <td>0.008803</td>\n",
       "      <td>0.000000</td>\n",
       "      <td>0.016628</td>\n",
       "      <td>0.000978</td>\n",
       "      <td>0.000196</td>\n",
       "      <td>0.006847</td>\n",
       "      <td>0.000196</td>\n",
       "      <td>0.000000</td>\n",
       "      <td>0.000000</td>\n",
       "      <td>0.000000</td>\n",
       "      <td>-0.108256</td>\n",
       "      <td>1.212918</td>\n",
       "      <td>0.834180</td>\n",
       "      <td>1.341958</td>\n",
       "      <td>0.025821</td>\n",
       "      <td>-1.207390</td>\n",
       "    </tr>\n",
       "    <tr>\n",
       "      <th>3</th>\n",
       "      <td>0.301588</td>\n",
       "      <td>0.253547</td>\n",
       "      <td>0.013345</td>\n",
       "      <td>0.400338</td>\n",
       "      <td>0.017793</td>\n",
       "      <td>0.006672</td>\n",
       "      <td>0.000000</td>\n",
       "      <td>0.001245</td>\n",
       "      <td>0.000133</td>\n",
       "      <td>0.000000</td>\n",
       "      <td>0.000000</td>\n",
       "      <td>0.005338</td>\n",
       "      <td>-0.108256</td>\n",
       "      <td>-0.079635</td>\n",
       "      <td>0.564589</td>\n",
       "      <td>-0.625701</td>\n",
       "      <td>0.022053</td>\n",
       "      <td>1.718000</td>\n",
       "    </tr>\n",
       "    <tr>\n",
       "      <th>4</th>\n",
       "      <td>0.946832</td>\n",
       "      <td>0.000000</td>\n",
       "      <td>0.008616</td>\n",
       "      <td>0.037207</td>\n",
       "      <td>0.004406</td>\n",
       "      <td>0.000000</td>\n",
       "      <td>0.000343</td>\n",
       "      <td>0.002252</td>\n",
       "      <td>0.000343</td>\n",
       "      <td>0.000000</td>\n",
       "      <td>0.000000</td>\n",
       "      <td>0.000000</td>\n",
       "      <td>-0.055302</td>\n",
       "      <td>1.188204</td>\n",
       "      <td>0.831790</td>\n",
       "      <td>1.275488</td>\n",
       "      <td>-0.086048</td>\n",
       "      <td>0.592850</td>\n",
       "    </tr>\n",
       "    <tr>\n",
       "      <th>...</th>\n",
       "      <td>...</td>\n",
       "      <td>...</td>\n",
       "      <td>...</td>\n",
       "      <td>...</td>\n",
       "      <td>...</td>\n",
       "      <td>...</td>\n",
       "      <td>...</td>\n",
       "      <td>...</td>\n",
       "      <td>...</td>\n",
       "      <td>...</td>\n",
       "      <td>...</td>\n",
       "      <td>...</td>\n",
       "      <td>...</td>\n",
       "      <td>...</td>\n",
       "      <td>...</td>\n",
       "      <td>...</td>\n",
       "      <td>...</td>\n",
       "      <td>...</td>\n",
       "    </tr>\n",
       "    <tr>\n",
       "      <th>4607</th>\n",
       "      <td>0.004012</td>\n",
       "      <td>0.000000</td>\n",
       "      <td>0.000000</td>\n",
       "      <td>0.006018</td>\n",
       "      <td>0.002006</td>\n",
       "      <td>0.980943</td>\n",
       "      <td>0.000000</td>\n",
       "      <td>0.000000</td>\n",
       "      <td>0.000000</td>\n",
       "      <td>0.000000</td>\n",
       "      <td>0.005015</td>\n",
       "      <td>0.002006</td>\n",
       "      <td>-0.108256</td>\n",
       "      <td>-1.101748</td>\n",
       "      <td>-0.444308</td>\n",
       "      <td>-0.925376</td>\n",
       "      <td>0.022795</td>\n",
       "      <td>0.517840</td>\n",
       "    </tr>\n",
       "    <tr>\n",
       "      <th>4608</th>\n",
       "      <td>0.002485</td>\n",
       "      <td>0.000000</td>\n",
       "      <td>0.000298</td>\n",
       "      <td>0.000000</td>\n",
       "      <td>0.001988</td>\n",
       "      <td>0.000398</td>\n",
       "      <td>0.000000</td>\n",
       "      <td>0.000000</td>\n",
       "      <td>0.000000</td>\n",
       "      <td>0.000398</td>\n",
       "      <td>0.000298</td>\n",
       "      <td>0.994135</td>\n",
       "      <td>-0.108256</td>\n",
       "      <td>-1.133863</td>\n",
       "      <td>-0.556152</td>\n",
       "      <td>-0.925453</td>\n",
       "      <td>0.022797</td>\n",
       "      <td>-0.869845</td>\n",
       "    </tr>\n",
       "    <tr>\n",
       "      <th>4609</th>\n",
       "      <td>0.000484</td>\n",
       "      <td>0.000000</td>\n",
       "      <td>0.000000</td>\n",
       "      <td>0.000000</td>\n",
       "      <td>0.000000</td>\n",
       "      <td>0.677310</td>\n",
       "      <td>0.000000</td>\n",
       "      <td>0.000000</td>\n",
       "      <td>0.000000</td>\n",
       "      <td>0.319303</td>\n",
       "      <td>0.002903</td>\n",
       "      <td>0.000000</td>\n",
       "      <td>-0.108256</td>\n",
       "      <td>-0.606697</td>\n",
       "      <td>-0.938327</td>\n",
       "      <td>-0.931055</td>\n",
       "      <td>0.022789</td>\n",
       "      <td>2.993170</td>\n",
       "    </tr>\n",
       "    <tr>\n",
       "      <th>4610</th>\n",
       "      <td>0.697464</td>\n",
       "      <td>0.209334</td>\n",
       "      <td>0.057091</td>\n",
       "      <td>0.018079</td>\n",
       "      <td>0.009515</td>\n",
       "      <td>0.007612</td>\n",
       "      <td>0.000381</td>\n",
       "      <td>0.000381</td>\n",
       "      <td>0.000143</td>\n",
       "      <td>0.000000</td>\n",
       "      <td>0.000000</td>\n",
       "      <td>0.000000</td>\n",
       "      <td>-0.054936</td>\n",
       "      <td>0.633919</td>\n",
       "      <td>0.760399</td>\n",
       "      <td>0.413347</td>\n",
       "      <td>-0.005406</td>\n",
       "      <td>1.192930</td>\n",
       "    </tr>\n",
       "    <tr>\n",
       "      <th>4611</th>\n",
       "      <td>0.004004</td>\n",
       "      <td>0.000000</td>\n",
       "      <td>0.000000</td>\n",
       "      <td>0.006006</td>\n",
       "      <td>0.002002</td>\n",
       "      <td>0.980981</td>\n",
       "      <td>0.000000</td>\n",
       "      <td>0.000000</td>\n",
       "      <td>0.000000</td>\n",
       "      <td>0.000000</td>\n",
       "      <td>0.005005</td>\n",
       "      <td>0.002002</td>\n",
       "      <td>-0.108256</td>\n",
       "      <td>-1.101840</td>\n",
       "      <td>-0.444776</td>\n",
       "      <td>-0.925387</td>\n",
       "      <td>0.022795</td>\n",
       "      <td>1.567980</td>\n",
       "    </tr>\n",
       "  </tbody>\n",
       "</table>\n",
       "<p>4612 rows × 18 columns</p>\n",
       "</div>"
      ],
      "text/plain": [
       "      element 1  element 2  element 3  element 4  element 5  element 6  \\\n",
       "0      0.693551   0.199083   0.055558   0.032409   0.009260   0.009260   \n",
       "1      0.009337   0.000000   0.009337   0.308123   0.000000   0.659197   \n",
       "2      0.956573   0.009781   0.008803   0.000000   0.016628   0.000978   \n",
       "3      0.301588   0.253547   0.013345   0.400338   0.017793   0.006672   \n",
       "4      0.946832   0.000000   0.008616   0.037207   0.004406   0.000000   \n",
       "...         ...        ...        ...        ...        ...        ...   \n",
       "4607   0.004012   0.000000   0.000000   0.006018   0.002006   0.980943   \n",
       "4608   0.002485   0.000000   0.000298   0.000000   0.001988   0.000398   \n",
       "4609   0.000484   0.000000   0.000000   0.000000   0.000000   0.677310   \n",
       "4610   0.697464   0.209334   0.057091   0.018079   0.009515   0.007612   \n",
       "4611   0.004004   0.000000   0.000000   0.006006   0.002002   0.980981   \n",
       "\n",
       "      element 7  element 8  element 9  element 10  element 11  element 12  \\\n",
       "0      0.000324   0.000278   0.000278    0.000000    0.000000    0.000000   \n",
       "1      0.000000   0.000000   0.000000    0.009337    0.004669    0.000000   \n",
       "2      0.000196   0.006847   0.000196    0.000000    0.000000    0.000000   \n",
       "3      0.000000   0.001245   0.000133    0.000000    0.000000    0.005338   \n",
       "4      0.000343   0.002252   0.000343    0.000000    0.000000    0.000000   \n",
       "...         ...        ...        ...         ...         ...         ...   \n",
       "4607   0.000000   0.000000   0.000000    0.000000    0.005015    0.002006   \n",
       "4608   0.000000   0.000000   0.000000    0.000398    0.000298    0.994135   \n",
       "4609   0.000000   0.000000   0.000000    0.319303    0.002903    0.000000   \n",
       "4610   0.000381   0.000381   0.000143    0.000000    0.000000    0.000000   \n",
       "4611   0.000000   0.000000   0.000000    0.000000    0.005005    0.002002   \n",
       "\n",
       "      property 1  property 2  property 3  property 4  property 5  property 6  \n",
       "0      -0.057956    0.631224    0.759085    0.398851   -0.003600    1.342950  \n",
       "1      -0.108256   -0.568080   -0.247029   -0.930688    0.022768   -1.207390  \n",
       "2      -0.108256    1.212918    0.834180    1.341958    0.025821   -1.207390  \n",
       "3      -0.108256   -0.079635    0.564589   -0.625701    0.022053    1.718000  \n",
       "4      -0.055302    1.188204    0.831790    1.275488   -0.086048    0.592850  \n",
       "...          ...         ...         ...         ...         ...         ...  \n",
       "4607   -0.108256   -1.101748   -0.444308   -0.925376    0.022795    0.517840  \n",
       "4608   -0.108256   -1.133863   -0.556152   -0.925453    0.022797   -0.869845  \n",
       "4609   -0.108256   -0.606697   -0.938327   -0.931055    0.022789    2.993170  \n",
       "4610   -0.054936    0.633919    0.760399    0.413347   -0.005406    1.192930  \n",
       "4611   -0.108256   -1.101840   -0.444776   -0.925387    0.022795    1.567980  \n",
       "\n",
       "[4612 rows x 18 columns]"
      ]
     },
     "execution_count": 33,
     "metadata": {},
     "output_type": "execute_result"
    }
   ],
   "source": [
    "path = r'/Users/qinxusen/Desktop/AI4/toy_alloy_data.csv'\n",
    "dr = pd.read_csv(path)\n",
    "dr"
   ]
  },
  {
   "cell_type": "markdown",
   "metadata": {},
   "source": []
  },
  {
   "cell_type": "code",
   "execution_count": 34,
   "metadata": {},
   "outputs": [
    {
     "name": "stdout",
     "output_type": "stream",
     "text": [
      "element 1 列中为0的数据 302 个, 占该列总数的 6.55%\n",
      "element 2 列中为0的数据 1979 个, 占该列总数的 42.91%\n",
      "element 3 列中为0的数据 841 个, 占该列总数的 18.24%\n",
      "element 4 列中为0的数据 2644 个, 占该列总数的 57.33%\n",
      "element 5 列中为0的数据 993 个, 占该列总数的 21.53%\n",
      "element 6 列中为0的数据 1393 个, 占该列总数的 30.20%\n",
      "element 7 列中为0的数据 1992 个, 占该列总数的 43.19%\n",
      "element 8 列中为0的数据 2251 个, 占该列总数的 48.81%\n",
      "element 9 列中为0的数据 2222 个, 占该列总数的 48.18%\n",
      "element 10 列中为0的数据 2715 个, 占该列总数的 58.87%\n",
      "element 11 列中为0的数据 2550 个, 占该列总数的 55.29%\n",
      "element 12 列中为0的数据 2812 个, 占该列总数的 60.97%\n",
      "property 1 列中为0的数据 0 个, 占该列总数的 0.00%\n",
      "property 2 列中为0的数据 0 个, 占该列总数的 0.00%\n",
      "property 3 列中为0的数据 0 个, 占该列总数的 0.00%\n",
      "property 4 列中为0的数据 0 个, 占该列总数的 0.00%\n",
      "property 5 列中为0的数据 0 个, 占该列总数的 0.00%\n",
      "property 6 列中为0的数据 0 个, 占该列总数的 0.00%\n"
     ]
    }
   ],
   "source": [
    "count = 0\n",
    "for column in dr.columns:\n",
    "    count = 0\n",
    "    for s in dr[column]:\n",
    "        if s==0:\n",
    "            count+=1\n",
    "            \n",
    "    print(\"%s 列中为0的数据 %d 个, 占该列总数的 %.2f%%\" % (column, count, count/dr.shape[0]*100))"
   ]
  },
  {
   "cell_type": "code",
   "execution_count": 35,
   "metadata": {},
   "outputs": [],
   "source": [
    "from sklearn.model_selection import train_test_split\n",
    "from sklearn.preprocessing import StandardScaler\n",
    "\n",
    "\n",
    "X = dr.iloc[:, :12].to_numpy()\n",
    "Y = dr.iloc[:, 12:].to_numpy()\n",
    "\n",
    "X_data = StandardScaler().fit_transform(X)\n",
    "Y_data = StandardScaler().fit_transform(Y)\n",
    "\n",
    "X_train, X_test, Y_train, Y_test = train_test_split(X_data,\n",
    "                                                    Y_data,\n",
    "                                                    test_size=0.2,\n",
    "                                                    random_state=randomseed)"
   ]
  },
  {
   "cell_type": "markdown",
   "metadata": {},
   "source": [
    "# DNN"
   ]
  },
  {
   "cell_type": "code",
   "execution_count": 36,
   "metadata": {},
   "outputs": [],
   "source": [
    "torchX = torch.tensor(X, dtype=torch.float)\n",
    "torchY = torch.tensor(Y, dtype=torch.float)\n",
    "torchX_train = torch.tensor(X_train, dtype=torch.float)\n",
    "torchX_test = torch.tensor(X_test, dtype=torch.float)\n",
    "torchY_train = torch.tensor(Y_train, dtype=torch.float)\n",
    "torchY_test = torch.tensor(Y_test, dtype=torch.float)"
   ]
  },
  {
   "cell_type": "code",
   "execution_count": 37,
   "metadata": {},
   "outputs": [],
   "source": [
    "def DNNmodel(n):\n",
    "    model = nn.Sequential(\n",
    "        nn.Linear(12, 100),\n",
    "        nn.ReLU(),\n",
    "        nn.Linear(100, 100),\n",
    "        nn.ReLU(),\n",
    "        nn.Linear(100, n)\n",
    "    )\n",
    "    optimizer = optim.Adam(model.parameters(), lr=0.01)\n",
    "\n",
    "    return optimizer, model\n",
    "\n",
    "\n",
    "mse_loss = nn.MSELoss()\n",
    "kl_loss = bnn.BKLLoss(reduction='mean', last_layer_only=False)\n",
    "kl_weight = 0.1\n"
   ]
  },
  {
   "cell_type": "code",
   "execution_count": 42,
   "metadata": {},
   "outputs": [
    {
     "name": "stdout",
     "output_type": "stream",
     "text": [
      "The accuracy of Challange 1 from DNN in PyTorch is: 0.7779794169434845\n",
      "Time used by DNN Regression of Challange 1 in PyTorch with training 3000 times is 0m 13s\n"
     ]
    },
    {
     "data": {
      "text/plain": [
       "Text(0.5, 0, 'Accuracy of each step')"
      ]
     },
     "execution_count": 42,
     "metadata": {},
     "output_type": "execute_result"
    },
    {
     "data": {
      "image/png": "[encoded data removed]",
      "text/plain": [
       "<Figure size 432x288 with 1 Axes>"
      ]
     },
     "metadata": {
      "needs_background": "light"
     },
     "output_type": "display_data"
    },
    {
     "data": {
      "image/png": "[encoded data removed]",
      "text/plain": [
       "<Figure size 432x288 with 1 Axes>"
      ]
     },
     "metadata": {
      "needs_background": "light"
     },
     "output_type": "display_data"
    }
   ],
   "source": [
    "since = time.time()\n",
    "\n",
    "optimizer_DNN_cha1, model_DNN_cha1 = DNNmodel(Y_train.shape[1])\n",
    "\n",
    "train_steps = 3000\n",
    "loss = np.zeros(train_steps, dtype=float)\n",
    "acc = np.zeros(train_steps, dtype=float)\n",
    "for step in range(train_steps):\n",
    "    pre = model_DNN_cha1(torchX_train)\n",
    "    mse = mse_loss(pre, torchY_train)\n",
    "    acc_perstep = r2_score(pre.detach().numpy(),torchY_train)\n",
    "    kl = kl_loss(model_DNN_cha1)\n",
    "    cost = mse\n",
    "    loss[step] = cost\n",
    "    acc[step] = acc_perstep\n",
    "    optimizer_DNN_cha1.zero_grad()\n",
    "    cost.backward()\n",
    "    optimizer_DNN_cha1.step()\n",
    "    \n",
    "\n",
    "from sklearn.metrics import r2_score \n",
    "\n",
    "Y_DNN_predict = model_DNN_cha1(torchX_test)\n",
    "\n",
    "accuracy_DNN_cha1 = r2_score(Y_DNN_predict.detach().numpy(),Y_test)\n",
    "\n",
    "\n",
    "print(\"The accuracy of Challange 1 from DNN is:\", accuracy_DNN_cha1)\n",
    "\n",
    "\n",
    "time_elapsed = time.time() - since\n",
    "print('Time used by DNN Regression of Challange 1 with training {:.0f} times is {:.0f}m {:.0f}s'.format(train_steps, \n",
    "    time_elapsed // 60, time_elapsed % 60))\n",
    "\n",
    "\n",
    "plt.figure()\n",
    "plt.plot(np.linspace(1, train_steps, train_steps), loss)\n",
    "plt.xlabel('Loss of each step')\n",
    "\n",
    "plt.figure()\n",
    "plt.plot(np.linspace(1, train_steps, train_steps), acc)\n",
    "plt.xlabel('Accuracy of each step')\n"
   ]
  },
  {
   "cell_type": "markdown",
   "metadata": {},
   "source": [
    "# Gaussian Regression\n"
   ]
  },
  {
   "cell_type": "code",
   "execution_count": 56,
   "metadata": {},
   "outputs": [
    {
     "name": "stdout",
     "output_type": "stream",
     "text": [
      "The accuracy of Challenge one from GPR is: -1.0439050960818772\n",
      "Time used by GPR of Challenge 1 is 1m 25s\n"
     ]
    },
    {
     "data": {
      "image/png": "[encoded data removed]",
      "text/plain": [
       "<Figure size 432x288 with 1 Axes>"
      ]
     },
     "metadata": {
      "needs_background": "light"
     },
     "output_type": "display_data"
    }
   ],
   "source": [
    "from sklearn.gaussian_process import GaussianProcessRegressor\n",
    "from sklearn.gaussian_process.kernels import RBF, ConstantKernel\n",
    "\n",
    "since = time.time()\n",
    "\n",
    "kernel = ConstantKernel(constant_value=2, constant_value_bounds=(\n",
    "    1, 1e4)) + RBF(length_scale=10, length_scale_bounds=(1e-4, 1e4))\n",
    "\n",
    "reg = GaussianProcessRegressor(kernel=kernel, random_state=randomseed)\n",
    "\n",
    "reg.fit(X_train, Y_train)\n",
    "\n",
    "pred = reg.predict(X_test)\n",
    "\n",
    "\n",
    "plt.scatter(pred, Y_test)\n",
    "\n",
    "accuracy_GPR_cha1 = r2_score(pred, Y_test)\n",
    "print(\"The accuracy of Challenge one from GPR is:\", accuracy_GPR_cha1)\n",
    "\n",
    "\n",
    "time_elapsed = time.time() - since\n",
    "print('Time used by GPR of Challenge 1 is {:.0f}m {:.0f}s'.format(\n",
    "    time_elapsed // 60, time_elapsed % 60))\n"
   ]
  },
  {
   "cell_type": "markdown",
   "metadata": {},
   "source": [
    "# Random Forest Regressor"
   ]
  },
  {
   "cell_type": "code",
   "execution_count": 58,
   "metadata": {},
   "outputs": [
    {
     "name": "stdout",
     "output_type": "stream",
     "text": [
      "The accuracy of Challenge one from GPR is: 0.6743192385581387\n",
      "Time used by Random Forest Regressor of Challenge 1 is 0m 3s\n"
     ]
    },
    {
     "data": {
      "image/png": "[encoded data removed]",
      "text/plain": [
       "<Figure size 432x288 with 1 Axes>"
      ]
     },
     "metadata": {
      "needs_background": "light"
     },
     "output_type": "display_data"
    }
   ],
   "source": [
    "from sklearn.ensemble import RandomForestRegressor\n",
    "\n",
    "since = time.time()\n",
    "\n",
    "regressor = RandomForestRegressor(n_estimators=200, random_state=0)\n",
    "regressor.fit(X_train, Y_train)\n",
    "Y_pred = regressor.predict(X_test)\n",
    "\n",
    "accuracy_GPR_cha1 = r2_score(Y_pred, Y_test)\n",
    "print(\"The accuracy of Random Forest Regressor from GPR is:\", accuracy_GPR_cha1)\n",
    "\n",
    "plt.scatter(Y_pred, Y_test)\n",
    "\n",
    "time_elapsed = time.time() - since\n",
    "print('Time used by Random Forest Regressor of Challenge 1 is {:.0f}m {:.0f}s'.format(\n",
    "    time_elapsed // 60, time_elapsed % 60))"
   ]
  },
  {
   "cell_type": "markdown",
   "metadata": {},
   "source": [
    "# Sparse GPRegression"
   ]
  },
  {
   "cell_type": "code",
   "execution_count": 61,
   "metadata": {},
   "outputs": [],
   "source": [
    "import GPy\n",
    "\n",
    "def create_kernel():\n",
    "    return GPy.kern.Matern52(lengthscale=1, input_dim=12, variance=1, ARD=True)"
   ]
  },
  {
   "cell_type": "code",
   "execution_count": 64,
   "metadata": {},
   "outputs": [
    {
     "name": "stdout",
     "output_type": "stream",
     "text": [
      "The accuracy of Challenge one from SGPR is: -0.8707924991117588\n",
      "Time used by SGPR of Challenge 1 is 0m 1s\n"
     ]
    },
    {
     "data": {
      "image/png": "[encoded data removed]",
      "text/plain": [
       "<Figure size 432x288 with 1 Axes>"
      ]
     },
     "metadata": {
      "needs_background": "light"
     },
     "output_type": "display_data"
    }
   ],
   "source": [
    "since = time.time()\n",
    "\n",
    "sgpr_cha1 = GPy.models.SparseGPRegression(X_train, Y_train,\n",
    "                                          num_inducing=900,\n",
    "                                          kernel=create_kernel())\n",
    "\n",
    "\n",
    "mu_cha1, cov_cha1 = sgpr_cha1.predict(X_test)\n",
    "accuracy_SGPR_cha1 = r2_score(mu_cha1, Y_test)\n",
    "\n",
    "\n",
    "plt.scatter(mu_cha1, Y_test)\n",
    "print(\"The accuracy of Challenge one from SGPR is:\", accuracy_SGPR_cha1)\n",
    "\n",
    "\n",
    "time_elapsed = time.time() - since\n",
    "print('Time used by SGPR of Challenge 1 is {:.0f}m {:.0f}s'.format(\n",
    "    time_elapsed // 60, time_elapsed % 60))\n"
   ]
  }
 ],
 "metadata": {
  "interpreter": {
   "hash": "cd5bdc78435185c8fd985540c54a68f14644d73ec6ed1fdba7728e00ccbd174e"
  },
  "kernelspec": {
   "display_name": "Python 3.9.5 ('tf39-gpu')",
   "language": "python",
   "name": "python3"
  },
  "language_info": {
   "codemirror_mode": {
    "name": "ipython",
    "version": 3
   },
   "file_extension": ".py",
   "mimetype": "text/x-python",
   "name": "python",
   "nbconvert_exporter": "python",
   "pygments_lexer": "ipython3",
   "version": "3.9.5"
  },
  "orig_nbformat": 4
 },
 "nbformat": 4,
 "nbformat_minor": 2
}
