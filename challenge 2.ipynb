{
 "cells": [
  {
   "cell_type": "code",
   "execution_count": 17,
   "metadata": {},
   "outputs": [],
   "source": [
    "import requests\n",
    "import pandas as pd\n",
    "from pymatgen.core.composition import Composition\n",
    "from pymatgen.ext.matproj import MPRester\n",
    "import numpy as np\n",
    "import matplotlib.pyplot as plt\n",
    "import time\n",
    "# from pymatgen.comms import printer\n",
    "# from pymatgen.parsers import VaspOutcar\n",
    "# from pymatgen.parsers import AbinitOutput\n",
    "# from pymatgen.parsers import QE_ElaStic_Parser\n",
    "# from pymatgen.parsers import QE_thermo_pw_Parser\n",
    "from pymatgen.core import Lattice, Structure, Molecule\n",
    "from pymatgen.analysis.elasticity.stress import Stress\n",
    "from pymatgen.analysis.elasticity.elastic import ElasticTensor\n",
    "from pymatgen.analysis.elasticity.elastic import ElasticTensorExpansion\n",
    "\n",
    " \n",
    "\n",
    "PATH_TO_MY_DB_JSON =  'my installation directory' \n",
    "\n",
    "# response = requests.get(\"https://www.materialsproject.org/rest/v2/materials/Fe2O3/vasp\", API_KEY)\n",
    "pd.set_option('display.max_columns', None)\n",
    "pd.set_option('display.width', None)\n",
    "API_KEY = 'uUefjSc8lHwUZXXVXgr0'"
   ]
  },
  {
   "cell_type": "code",
   "execution_count": 18,
   "metadata": {},
   "outputs": [],
   "source": [
    "coords = [[0, 0, 0], [0.75,0.5,0.75]]\n",
    "lattice = Lattice.from_parameters(a=3.84, b=3.84, c=3.84, alpha=120,\n",
    "                                  beta=90, gamma=60)\n",
    "struct = Structure(lattice, [\"Si\", \"Si\"], coords)\n",
    "\n",
    "coords = [[0.000000, 0.000000, 0.000000],\n",
    "          [0.000000, 0.000000, 1.089000],\n",
    "          [1.026719, 0.000000, -0.363000],\n",
    "          [-0.513360, -0.889165, -0.363000],\n",
    "          [-0.513360, 0.889165, -0.363000]]\n",
    "methane = Molecule([\"C\", \"H\", \"H\", \"H\", \"H\"], coords)"
   ]
  },
  {
   "cell_type": "code",
   "execution_count": 19,
   "metadata": {},
   "outputs": [
    {
     "data": {
      "text/plain": [
       "Molecule Summary\n",
       "Site: C (0.0000, 0.0000, 0.0000)\n",
       "Site: H (0.0000, 0.0000, 1.0890)\n",
       "Site: H (1.0267, 0.0000, -0.3630)\n",
       "Site: H (-0.5134, -0.8892, -0.3630)\n",
       "Site: H (-0.5134, 0.8892, -0.3630)"
      ]
     },
     "execution_count": 19,
     "metadata": {},
     "output_type": "execute_result"
    }
   ],
   "source": [
    "methane"
   ]
  }
 ],
 "metadata": {
  "interpreter": {
   "hash": "cd5bdc78435185c8fd985540c54a68f14644d73ec6ed1fdba7728e00ccbd174e"
  },
  "kernelspec": {
   "display_name": "Python 3.9.5 ('tf39-gpu')",
   "language": "python",
   "name": "python3"
  },
  "language_info": {
   "codemirror_mode": {
    "name": "ipython",
    "version": 3
   },
   "file_extension": ".py",
   "mimetype": "text/x-python",
   "name": "python",
   "nbconvert_exporter": "python",
   "pygments_lexer": "ipython3",
   "version": "3.9.12"
  },
  "orig_nbformat": 4
 },
 "nbformat": 4,
 "nbformat_minor": 2
}
